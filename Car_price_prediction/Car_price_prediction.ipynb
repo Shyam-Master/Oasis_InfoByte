{
  "nbformat": 4,
  "nbformat_minor": 0,
  "metadata": {
    "colab": {
      "provenance": []
    },
    "kernelspec": {
      "name": "python3",
      "display_name": "Python 3"
    },
    "language_info": {
      "name": "python"
    }
  },
  "cells": [
    {
      "cell_type": "code",
      "execution_count": null,
      "metadata": {
        "colab": {
          "base_uri": "https://localhost:8080/"
        },
        "id": "I6NmNrvi7vfR",
        "outputId": "0836b52b-bb83-4e01-bd6e-8720cb90ec26"
      },
      "outputs": [
        {
          "output_type": "stream",
          "name": "stdout",
          "text": [
            "  Car_Name  Year  Selling_Price  Present_Price  Driven_kms Fuel_Type  \\\n",
            "0     ritz  2014           3.35           5.59       27000    Petrol   \n",
            "1      sx4  2013           4.75           9.54       43000    Diesel   \n",
            "2     ciaz  2017           7.25           9.85        6900    Petrol   \n",
            "3  wagon r  2011           2.85           4.15        5200    Petrol   \n",
            "4    swift  2014           4.60           6.87       42450    Diesel   \n",
            "\n",
            "  Selling_type Transmission  Owner  \n",
            "0       Dealer       Manual      0  \n",
            "1       Dealer       Manual      0  \n",
            "2       Dealer       Manual      0  \n",
            "3       Dealer       Manual      0  \n",
            "4       Dealer       Manual      0  \n",
            "Mean Absolute Error: 0.5919114754098365\n"
          ]
        },
        {
          "output_type": "execute_result",
          "data": {
            "text/plain": [
              "['car_price_prediction_model.joblib']"
            ]
          },
          "metadata": {},
          "execution_count": 16
        }
      ],
      "source": [
        "# Importing necessary libraries\n",
        "import pandas as pd\n",
        "from sklearn.model_selection import train_test_split\n",
        "from sklearn.ensemble import RandomForestRegressor\n",
        "from sklearn.metrics import mean_absolute_error\n",
        "from sklearn.preprocessing import LabelEncoder\n",
        "import joblib  # For saving the trained model\n",
        "\n",
        "# Load the dataset\n",
        "file_path = '/content/car data.csv'\n",
        "data = pd.read_csv(file_path)\n",
        "\n",
        "# Display the first few rows of the dataset\n",
        "print(data.head())\n",
        "\n",
        "# Data preprocessing\n",
        "le = LabelEncoder()\n",
        "data['Fuel_Type'] = le.fit_transform(data['Fuel_Type'])\n",
        "data['Driven_kms'] = le.fit_transform(data['Driven_kms'])\n",
        "data['Transmission'] = le.fit_transform(data['Transmission'])\n",
        "\n",
        "# Extracting features and target variable\n",
        "X = data[['Year', 'Present_Price', 'Driven_kms', 'Fuel_Type', 'Transmission', 'Owner']]\n",
        "y = data['Selling_Price']\n",
        "\n",
        "# Split the data into training and testing sets\n",
        "X_train, X_test, y_train, y_test = train_test_split(X, y, test_size=0.2, random_state=42)\n",
        "\n",
        "# Create a RandomForestRegressor model\n",
        "model = RandomForestRegressor(n_estimators=100, random_state=42)\n",
        "\n",
        "# Train the model\n",
        "model.fit(X_train, y_train)\n",
        "\n",
        "# Make predictions on the test set\n",
        "predictions = model.predict(X_test)\n",
        "\n",
        "# Evaluate the model\n",
        "mae = mean_absolute_error(y_test, predictions)\n",
        "print(f'Mean Absolute Error: {mae}')\n",
        "\n",
        "# Save the trained model for future use\n",
        "joblib.dump(model, 'car_price_prediction_model.joblib')\n",
        "\n",
        "# You can use the saved model later for making predictions on new data\n",
        "# loaded_model = joblib.load('car_price_prediction_model.joblib')\n",
        "# new_data = pd.DataFrame(...)  # Provide new data for prediction\n",
        "# predictions = loaded_model.predict(new_data)\n"
      ]
    },
    {
      "cell_type": "code",
      "source": [],
      "metadata": {
        "id": "zveILwX87-rN"
      },
      "execution_count": null,
      "outputs": []
    }
  ]
}